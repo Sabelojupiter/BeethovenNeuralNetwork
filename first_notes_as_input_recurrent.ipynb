{
 "cells": [
  {
   "cell_type": "markdown",
   "metadata": {},
   "source": [
    "Data Preparation"
   ]
  },
  {
   "cell_type": "code",
   "execution_count": null,
   "metadata": {},
   "outputs": [],
   "source": [
    "import music21\n",
    "import numpy as np\n",
    "\n",
    "def midi_to_notes(midi_file):\n",
    "    midi = music21.converter.parse(midi_file)\n",
    "    notes = []\n",
    "    for element in midi.flat.notes:\n",
    "        if isinstance(element, music21.note.Note):\n",
    "            notes.append(str(element.pitch))\n",
    "        elif isinstance(element, music21.chord.Chord):\n",
    "            notes.append('.'.join(str(n) for n in element.normalOrder))\n",
    "    return notes\n",
    "\n",
    "# Example usage:\n",
    "# notes = midi_to_notes('path/to/midi/file.mid')"
   ]
  },
  {
   "cell_type": "markdown",
   "metadata": {},
   "source": [
    "Model Design"
   ]
  },
  {
   "cell_type": "code",
   "execution_count": null,
   "metadata": {},
   "outputs": [],
   "source": [
    "import tensorflow as tf\n",
    "from tensorflow.keras.models import Sequential\n",
    "from tensorflow.keras.layers import LSTM, Dense, Embedding\n",
    "\n",
    "# Define constants\n",
    "SEQ_LENGTH = 100  # Sequence length\n",
    "VOCAB_SIZE = 128  # Number of unique notes\n",
    "\n",
    "# Build the model\n",
    "model = Sequential([\n",
    "    Embedding(VOCAB_SIZE, 100, input_length=SEQ_LENGTH),\n",
    "    LSTM(256, return_sequences=True),\n",
    "    LSTM(256),\n",
    "    Dense(VOCAB_SIZE, activation='softmax')\n",
    "])\n",
    "\n",
    "model.compile(loss='sparse_categorical_crossentropy', optimizer='adam')\n",
    "\n",
    "model.summary()"
   ]
  },
  {
   "cell_type": "markdown",
   "metadata": {},
   "source": [
    "Training"
   ]
  },
  {
   "cell_type": "code",
   "execution_count": null,
   "metadata": {},
   "outputs": [],
   "source": [
    "def prepare_sequences(notes, seq_length):\n",
    "    pitch_names = sorted(set(notes))\n",
    "    note_to_int = {note: number for number, note in enumerate(pitch_names)}\n",
    "    \n",
    "    network_input = []\n",
    "    network_output = []\n",
    "    \n",
    "    for i in range(0, len(notes) - seq_length):\n",
    "        seq_in = notes[i:i + seq_length]\n",
    "        seq_out = notes[i + seq_length]\n",
    "        network_input.append([note_to_int[char] for char in seq_in])\n",
    "        network_output.append(note_to_int[seq_out])\n",
    "    \n",
    "    n_patterns = len(network_input)\n",
    "    \n",
    "    network_input = np.reshape(network_input, (n_patterns, seq_length, 1))\n",
    "    network_output = np.array(network_output)\n",
    "    \n",
    "    return network_input, network_output\n",
    "\n",
    "# Prepare data\n",
    "# notes = midi_to_notes('path/to/midi/file.mid')\n",
    "# X, y = prepare_sequences(notes, SEQ_LENGTH)\n",
    "\n",
    "# Train the model\n",
    "# model.fit(X, y, epochs=100, batch_size=64)"
   ]
  },
  {
   "cell_type": "markdown",
   "metadata": {},
   "source": [
    "Generation"
   ]
  },
  {
   "cell_type": "code",
   "execution_count": null,
   "metadata": {},
   "outputs": [],
   "source": [
    "def generate_notes(model, start_sequence, num_generate):\n",
    "    int_to_note = {number: note for number, note in enumerate(pitch_names)}\n",
    "    pattern = [note_to_int[char] for char in start_sequence]\n",
    "    prediction_output = []\n",
    "\n",
    "    for note_index in range(num_generate):\n",
    "        prediction_input = np.reshape(pattern, (1, len(pattern), 1))\n",
    "        prediction = model.predict(prediction_input, verbose=0)\n",
    "        index = np.argmax(prediction)\n",
    "        result = int_to_note[index]\n",
    "        prediction_output.append(result)\n",
    "        pattern.append(index)\n",
    "        pattern = pattern[1:len(pattern)]\n",
    "    \n",
    "    return prediction_output\n",
    "\n",
    "# Example usage:\n",
    "# start_sequence = notes[:SEQ_LENGTH]\n",
    "# generated_notes = generate_notes(model, start_sequence, 500)\n"
   ]
  }
 ],
 "metadata": {
  "language_info": {
   "name": "python"
  },
  "orig_nbformat": 4
 },
 "nbformat": 4,
 "nbformat_minor": 2
}
